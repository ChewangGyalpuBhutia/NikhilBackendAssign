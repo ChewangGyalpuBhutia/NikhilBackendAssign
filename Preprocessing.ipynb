{
 "cells": [
  {
   "cell_type": "code",
   "execution_count": 2,
   "id": "d519dbca-5df0-4edd-807f-9dbdf13a414e",
   "metadata": {},
   "outputs": [],
   "source": [
    "import pandas as pd\n",
    "import glob\n",
    "import yfinance as yf\n",
    "import requests\n",
    "import pyxirr"
   ]
  },
  {
   "cell_type": "markdown",
   "id": "675d93f7-4f90-4627-b529-e3a3bda55680",
   "metadata": {},
   "source": [
    "Preprocessing"
   ]
  },
  {
   "cell_type": "code",
   "execution_count": 4,
   "id": "de30ff1a-18ab-4c49-87f2-80f310a5fdf4",
   "metadata": {},
   "outputs": [],
   "source": [
    "file_paths = glob.glob('stock_dataset/*.csv')"
   ]
  },
  {
   "cell_type": "code",
   "execution_count": 5,
   "id": "66d3cb45-0f5b-4e70-956f-140987126bd2",
   "metadata": {},
   "outputs": [],
   "source": [
    "dfs = []\n",
    "for fp in file_paths:\n",
    "    df = pd.read_csv(fp)\n",
    "    dfs.append(df)\n",
    "\n",
    "merged_df = pd.concat(dfs, ignore_index=True)"
   ]
  },
  {
   "cell_type": "code",
   "execution_count": 6,
   "id": "f1eb10b9-7fa3-41f3-8808-815f925ec3f1",
   "metadata": {},
   "outputs": [],
   "source": [
    "# Quantity to numeric and sorting by date/time\n",
    "merged_df['Quantity'] = pd.to_numeric(merged_df['Quantity'], errors='coerce')\n",
    "merged_df = merged_df.sort_values(by='Date/Time').reset_index(drop=True)"
   ]
  },
  {
   "cell_type": "code",
   "execution_count": 7,
   "id": "1b14fca7-9c71-4bf5-a2ae-4d3f0b373cbe",
   "metadata": {},
   "outputs": [
    {
     "name": "stderr",
     "output_type": "stream",
     "text": [
      "HTTP Error 404: \n",
      "$C6L: possibly delisted; no timezone found\n"
     ]
    },
    {
     "name": "stdout",
     "output_type": "stream",
     "text": [
      "C6L: No split data or index not datetime\n",
      "CMG Date\n",
      "2024-06-26 04:00:00    50.0\n",
      "Name: Stock Splits, dtype: float64\n",
      "NVDA Date\n",
      "2024-06-10 04:00:00    10.0\n",
      "Name: Stock Splits, dtype: float64\n"
     ]
    }
   ],
   "source": [
    "# Get Split Details\n",
    "symbols = [\n",
    "    \"AAPL\", \"AMZN\", \"AXP\", \"C6L\", \"CMG\", \"GOOG\", \"GOOGL\", \"GPRO\", \"IBIT\", \"MARA\",\n",
    "    \"MSFT\", \"NET\", \"NU\", \"NVDA\", \"ORCL\", \"SE\", \"SPY\", \"TSLA\"\n",
    "]\n",
    "\n",
    "split_details = {}\n",
    "start_date = pd.to_datetime(\"2023-06-01\")\n",
    "\n",
    "for symbol in symbols:\n",
    "    ticker = yf.Ticker(symbol)\n",
    "    splits = ticker.splits\n",
    "    if isinstance(splits.index, pd.DatetimeIndex):\n",
    "        splits.index = splits.index.tz_convert(None) if splits.index.tz else splits.index\n",
    "        splits_after = splits[splits.index > start_date]\n",
    "        if not splits_after.empty:\n",
    "            print(symbol, splits_after)\n",
    "            split_details[symbol] = splits_after\n",
    "        else:\n",
    "            split_details[symbol] = \"No split data after start date\"\n",
    "    else:\n",
    "        print(f\"{symbol}: No split data or index not datetime\")\n",
    "        split_details[symbol] = \"No split data or index not datetime\""
   ]
  },
  {
   "cell_type": "code",
   "execution_count": 8,
   "id": "275ad6a0-9661-4deb-8459-c5d16b194bfc",
   "metadata": {},
   "outputs": [
    {
     "name": "stdout",
     "output_type": "stream",
     "text": [
      "CMG | Split Date: 2024-06-26 | Matches: 1\n",
      "NVDA | Split Date: 2024-06-10 | Matches: 17\n"
     ]
    }
   ],
   "source": [
    "# Adjust according to splits\n",
    "df_splits = merged_df.copy()\n",
    "for symbol, splits in split_details.items():\n",
    "    if isinstance(splits, pd.Series):\n",
    "        for split_date, split_ratio in splits.items():\n",
    "            split_date = pd.to_datetime(split_date).replace(tzinfo=None)\n",
    "            mask = (\n",
    "                (df_splits['Symbol'] == symbol) &\n",
    "                (pd.to_datetime(df_splits['Date/Time'], errors='coerce') < split_date)\n",
    "            )\n",
    "            matching_rows = df_splits.loc[mask, ['Date/Time']]\n",
    "            print(f\"{symbol} | Split Date: {split_date.date()} | Matches: {mask.sum()}\")\n",
    "            df_splits.loc[mask, 'Quantity'] = df_splits.loc[mask, 'Quantity'] * split_ratio\n",
    "            df_splits.loc[mask, 'T. Price'] = df_splits.loc[mask, 'T. Price'] / split_ratio\n",
    "            df_splits.loc[mask, 'Proceeds'] = (\n",
    "                df_splits.loc[mask, 'Quantity'] * df_splits.loc[mask, 'T. Price'] * \n",
    "                (-1 if (merged_df.loc[mask, 'Proceeds'] < 0).any() else 1)\n",
    "            )"
   ]
  },
  {
   "cell_type": "code",
   "execution_count": 9,
   "id": "43aaca6e-f903-4068-b5bc-7fe3c85b5a7b",
   "metadata": {},
   "outputs": [
    {
     "data": {
      "text/html": [
       "<div>\n",
       "<style scoped>\n",
       "    .dataframe tbody tr th:only-of-type {\n",
       "        vertical-align: middle;\n",
       "    }\n",
       "\n",
       "    .dataframe tbody tr th {\n",
       "        vertical-align: top;\n",
       "    }\n",
       "\n",
       "    .dataframe thead th {\n",
       "        text-align: right;\n",
       "    }\n",
       "</style>\n",
       "<table border=\"1\" class=\"dataframe\">\n",
       "  <thead>\n",
       "    <tr style=\"text-align: right;\">\n",
       "      <th></th>\n",
       "      <th>Quantity_original</th>\n",
       "      <th>T. Price_original</th>\n",
       "      <th>Proceeds_original</th>\n",
       "      <th>Quantity_split</th>\n",
       "      <th>T. Price_split</th>\n",
       "      <th>Proceeds_split</th>\n",
       "    </tr>\n",
       "  </thead>\n",
       "  <tbody>\n",
       "    <tr>\n",
       "      <th>1</th>\n",
       "      <td>40.0</td>\n",
       "      <td>380.0</td>\n",
       "      <td>-15200.0</td>\n",
       "      <td>400.0</td>\n",
       "      <td>38.0</td>\n",
       "      <td>-15200.0</td>\n",
       "    </tr>\n",
       "    <tr>\n",
       "      <th>6</th>\n",
       "      <td>20.0</td>\n",
       "      <td>449.0</td>\n",
       "      <td>-8980.0</td>\n",
       "      <td>200.0</td>\n",
       "      <td>44.9</td>\n",
       "      <td>-8980.0</td>\n",
       "    </tr>\n",
       "    <tr>\n",
       "      <th>8</th>\n",
       "      <td>-20.0</td>\n",
       "      <td>502.0</td>\n",
       "      <td>10040.0</td>\n",
       "      <td>-200.0</td>\n",
       "      <td>50.2</td>\n",
       "      <td>10040.0</td>\n",
       "    </tr>\n",
       "  </tbody>\n",
       "</table>\n",
       "</div>"
      ],
      "text/plain": [
       "   Quantity_original  T. Price_original  Proceeds_original  Quantity_split  \\\n",
       "1               40.0              380.0           -15200.0           400.0   \n",
       "6               20.0              449.0            -8980.0           200.0   \n",
       "8              -20.0              502.0            10040.0          -200.0   \n",
       "\n",
       "   T. Price_split  Proceeds_split  \n",
       "1            38.0        -15200.0  \n",
       "6            44.9         -8980.0  \n",
       "8            50.2         10040.0  "
      ]
     },
     "execution_count": 9,
     "metadata": {},
     "output_type": "execute_result"
    }
   ],
   "source": [
    "# Compare Quantity, T. Price, and Proceeds for NVDA rows before split date in both DataFrames\n",
    "split_date = pd.to_datetime('2024-06-10')\n",
    "mask = (pd.to_datetime(merged_df['Date/Time'], errors='coerce') < split_date) & (merged_df['Symbol'] == 'NVDA')\n",
    "\n",
    "comparison = pd.DataFrame({\n",
    "    'Quantity_original': merged_df.loc[mask, 'Quantity'],\n",
    "    'T. Price_original': merged_df.loc[mask, 'T. Price'],\n",
    "    'Proceeds_original': merged_df.loc[mask, 'Proceeds'],\n",
    "    'Quantity_split': df_splits.loc[mask, 'Quantity'],\n",
    "    'T. Price_split': df_splits.loc[mask, 'T. Price'],\n",
    "    'Proceeds_split': df_splits.loc[mask, 'Proceeds'],\n",
    "})\n",
    "\n",
    "comparison.iloc[0:3]"
   ]
  },
  {
   "cell_type": "code",
   "execution_count": null,
   "id": "257f20df-c51d-4dc8-bd3c-7d5a4287688b",
   "metadata": {},
   "outputs": [],
   "source": [
    "# Get the inr and sgd value for usd for uniques date\n",
    "trade_dates = pd.to_datetime(df_splits['Date/Time'], errors='coerce').dt.date.unique()\n",
    "currency_data = []\n",
    "for date in trade_dates:\n",
    "    url = f\"https://api.frankfurter.app/{date}?from=USD&to=INR,SGD\"\n",
    "    response = requests.get(url)\n",
    "    if response.status_code == 200:\n",
    "        data = response.json()\n",
    "        rates = data.get('rates', {})\n",
    "        currency_data.append({\n",
    "            'Date': date,\n",
    "            'USDINR': rates.get('INR', None),\n",
    "            'USDSGD': rates.get('SGD', None)\n",
    "        })\n",
    "    else:\n",
    "        print('else')\n",
    "        currency_data.append({\n",
    "            'Date': date,\n",
    "            'USDINR': None,\n",
    "            'USDSGD': None\n",
    "        })\n",
    "currency_rates = pd.DataFrame(currency_data)\n",
    "currency_rates.to_csv('currency_dataset/currency_rates.csv', index=False)"
   ]
  },
  {
   "cell_type": "code",
   "execution_count": 11,
   "id": "e2b658d8-aad9-4e3e-bd7d-894be6c5254f",
   "metadata": {},
   "outputs": [],
   "source": [
    "df_currency = df_splits.copy()"
   ]
  },
  {
   "cell_type": "code",
   "execution_count": 13,
   "id": "ba72dc12-7a6f-4aaf-b6ca-10ae98c3bda7",
   "metadata": {},
   "outputs": [],
   "source": [
    "# Load currency rates\n",
    "currency_rates = pd.read_csv('currency_dataset/currency_rates.csv')\n",
    "currency_rates['Date'] = pd.to_datetime(currency_rates['Date']).dt.date\n",
    "\n",
    "# Prepare df_splits for merging\n",
    "df_currency['Date'] = pd.to_datetime(df_currency['Date/Time'], errors='coerce').dt.date\n",
    "\n",
    "# Merge currency rates into df_splits\n",
    "df_currency = pd.merge(df_currency, currency_rates, on='Date', how='left')\n",
    "\n",
    "# Compute transaction price in INR and SGD\n",
    "df_currency['Price_INR'] = df_currency['T. Price'] * df_currency['USDINR']\n",
    "df_currency['Price_SGD'] = df_currency['T. Price'] * df_currency['USDSGD']"
   ]
  },
  {
   "cell_type": "code",
   "execution_count": 14,
   "id": "53f5c8c1-43d7-47a1-ac61-fc60d967a320",
   "metadata": {},
   "outputs": [],
   "source": [
    "df_splits_close = df_currency.copy()"
   ]
  },
  {
   "cell_type": "code",
   "execution_count": null,
   "id": "8112eb61-dea8-4111-b737-2e0933bee935",
   "metadata": {},
   "outputs": [],
   "source": [
    "# Get split adjusted historical prices\n",
    "results = []\n",
    "for idx, row in df_splits_close.iterrows():\n",
    "    symbol = row['Symbol']\n",
    "    date_str = pd.to_datetime(row['Date/Time'], errors='coerce').strftime('%Y-%m-%d') if not pd.isna(row['Date/Time']) else None\n",
    "    close_price = None\n",
    "    if symbol and date_str:\n",
    "        try:\n",
    "            data = yf.download(\n",
    "                symbol,\n",
    "                start=date_str,\n",
    "                end=(pd.to_datetime(date_str) + pd.Timedelta(days=1)).strftime('%Y-%m-%d'),\n",
    "                auto_adjust=True\n",
    "            )\n",
    "            # Get the close for the exact date\n",
    "            if not data.empty and 'Close' in data.columns:\n",
    "                close_row = data.loc[data.index.normalize() == pd.to_datetime(date_str)]\n",
    "                if not close_row.empty:\n",
    "                    close_price = float(close_row['Close'].iloc[0]) \n",
    "        except Exception as e:\n",
    "            print(f\"Error for {symbol} on {date_str}: {e}\")\n",
    "    results.append({\n",
    "        'Symbol': symbol,\n",
    "        'Date/Time': row['Date/Time'],\n",
    "        'Split_Adjusted_Close': close_price\n",
    "    })\n",
    "\n",
    "# Create a new DataFrame with the results\n",
    "df_closing_prices = pd.DataFrame(results)\n",
    "print(df_closing_prices.head())"
   ]
  },
  {
   "cell_type": "code",
   "execution_count": 106,
   "id": "837db279-b4ad-4faf-8f07-110fae4e27b3",
   "metadata": {},
   "outputs": [],
   "source": [
    "# Merge closing prices from df_closing_prices into df_splits_close\n",
    "df_splits_close = pd.merge(\n",
    "    df_splits_close,\n",
    "    df_closing_prices[['Symbol', 'Date/Time', 'Split_Adjusted_Close']],\n",
    "    on=['Symbol', 'Date/Time'],\n",
    "    how='left'\n",
    ")"
   ]
  },
  {
   "cell_type": "code",
   "execution_count": null,
   "id": "13406422-f912-43ec-9c22-9b64bd02cebb",
   "metadata": {},
   "outputs": [],
   "source": [
    "df_splits_close.to_csv('final_dataset.csv', index=False)"
   ]
  }
 ],
 "metadata": {
  "kernelspec": {
   "display_name": "Python 3 (ipykernel)",
   "language": "python",
   "name": "python3"
  },
  "language_info": {
   "codemirror_mode": {
    "name": "ipython",
    "version": 3
   },
   "file_extension": ".py",
   "mimetype": "text/x-python",
   "name": "python",
   "nbconvert_exporter": "python",
   "pygments_lexer": "ipython3",
   "version": "3.12.3"
  }
 },
 "nbformat": 4,
 "nbformat_minor": 5
}
